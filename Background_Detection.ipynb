{
  "nbformat": 4,
  "nbformat_minor": 0,
  "metadata": {
    "colab": {
      "provenance": []
    },
    "kernelspec": {
      "name": "python3",
      "display_name": "Python 3"
    },
    "language_info": {
      "name": "python"
    }
  },
  "cells": [
    {
      "cell_type": "code",
      "execution_count": null,
      "metadata": {
        "colab": {
          "base_uri": "https://localhost:8080/"
        },
        "id": "FSlRuwtWoBRP",
        "outputId": "5cce9e2c-94aa-4a75-a5bc-c723648f7217"
      },
      "outputs": [
        {
          "output_type": "stream",
          "name": "stdout",
          "text": [
            "/usr/local/lib/python3.8/dist-packages/gdown/cli.py:127: FutureWarning: Option `--id` was deprecated in version 4.3.1 and will be removed in 5.0. You don't need to pass it anymore to use a file ID.\n",
            "  warnings.warn(\n",
            "Downloading...\n",
            "From: https://drive.google.com/uc?id=1zi-pRMRhxrcZVBzb0ir406oJX9D7M-bn&confirm=true\n",
            "To: /content/saudi_validation.zip\n",
            "100% 249M/249M [00:02<00:00, 92.0MB/s]\n"
          ]
        }
      ],
      "source": [
        "!gdown --id '1zi-pRMRhxrcZVBzb0ir406oJX9D7M-bn&confirm=true'"
      ]
    },
    {
      "cell_type": "code",
      "source": [
        "!unzip -qq saudi_validation.zip"
      ],
      "metadata": {
        "id": "onAoELf0wGTQ"
      },
      "execution_count": null,
      "outputs": []
    },
    {
      "cell_type": "code",
      "source": [
        "from google.colab.patches import cv2_imshow"
      ],
      "metadata": {
        "id": "sFp2CWTEEipy"
      },
      "execution_count": null,
      "outputs": []
    },
    {
      "cell_type": "code",
      "source": [
        "#@title Mask R-CNN\n",
        "from __future__ import division, print_function, absolute_import\n",
        "import os\n",
        "import sys\n",
        "import cv2\n",
        "import numpy as np\n",
        "import random\n",
        "import torchvision\n",
        "from torchvision.transforms import transforms as transforms\n",
        "from torchvision.transforms import functional as F\n",
        "import torch.nn as nn\n",
        "import torch\n",
        "from torchvision import transforms\n",
        "from torchvision.transforms.functional import resize, normalize\n",
        "from PIL import Image\n",
        "\n",
        "def image_resize(image, width = None, height = None, inter = cv2.INTER_AREA):\n",
        "    dim = None\n",
        "    (h, w) = image.shape[:2]\n",
        "    if width is None and height is None:\n",
        "        return image\n",
        "    if width is None:\n",
        "        # dimensions\n",
        "        r = height / float(h)\n",
        "        dim = (int(w * r), height)\n",
        "\n",
        "    else:\n",
        "        r = width / float(w)\n",
        "        dim = (width, int(h * r))\n",
        "\n",
        "    resized = cv2.resize(image, dim, interpolation = inter)\n",
        "    return resized\n",
        "    \n",
        "coco_names = [\n",
        "    '__background__', 'person', 'bicycle', 'car', 'motorcycle', 'airplane', 'bus',\n",
        "    'train', 'truck', 'boat', 'traffic light', 'fire hydrant', 'N/A', 'stop sign',\n",
        "    'parking meter', 'bench', 'bird', 'cat', 'dog', 'horse', 'sheep', 'cow',\n",
        "    'elephant', 'bear', 'zebra', 'giraffe', 'N/A', 'backpack', 'umbrella', 'N/A', 'N/A',\n",
        "    'handbag', 'tie', 'suitcase', 'frisbee', 'skis', 'snowboard', 'sports ball',\n",
        "    'kite', 'baseball bat', 'baseball glove', 'skateboard', 'surfboard', 'tennis racket',\n",
        "    'bottle', 'N/A', 'wine glass', 'cup', 'fork', 'knife', 'spoon', 'bowl',\n",
        "    'banana', 'apple', 'sandwich', 'orange', 'broccoli', 'carrot', 'hot dog', 'pizza',\n",
        "    'donut', 'cake', 'chair', 'couch', 'potted plant', 'bed', 'N/A', 'dining table',\n",
        "    'N/A', 'N/A', 'toilet', 'N/A', 'tv', 'laptop', 'mouse', 'remote', 'keyboard', 'cell phone',\n",
        "    'microwave', 'oven', 'toaster', 'sink', 'refrigerator', 'N/A', 'book',\n",
        "    'clock', 'vase', 'scissors', 'teddy bear', 'hair drier', 'toothbrush'\n",
        "]\n",
        "\n",
        "\n",
        "COLORS = np.random.uniform(0, 255, size=(len(coco_names), 3))\n",
        "\n",
        "\n",
        "def fixed_crop(img):\n",
        "    H,W,C =img.shape\n",
        "    y=0\n",
        "    x=0\n",
        "    h=H//2\n",
        "    w=int(W*25/100)\n",
        "    cropA = img[y:y+h, x:x+w]\n",
        "    y=0\n",
        "    x=int(80*W/100)\n",
        "    h=H//2\n",
        "    w=w\n",
        "    cropB = img[y:y+h, x:x+w]\n",
        "    s1 = iswhite(cropA)\n",
        "    s2 = iswhite(cropB)\n",
        "    if s1 == False and s2 == False:\n",
        "       return False\n",
        "    else:\n",
        "       return True\n",
        "\n",
        "\n",
        "class Mask_RCNN():\n",
        "    def __init__(self, extract_features=None, threshold = 0.97):\n",
        "        self.threshold = threshold # 0.965\n",
        "        self.transform = transforms.Compose([\n",
        "            transforms.ToTensor()\n",
        "        ])\n",
        "        self.extract_features = extract_features\n",
        "        # initialize the model\n",
        "        self.model = torchvision.models.detection.maskrcnn_resnet50_fpn(pretrained=True, progress=True, \n",
        "                                                                  num_classes=91)\n",
        "        # set the computation device\n",
        "        self.device = torch.device('cuda' if torch.cuda.is_available() else 'cpu')\n",
        "        # load the modle on to the computation device and set to eval mode\n",
        "        self.model.to(self.device ).eval()\n",
        "\n",
        "    def get_outputs(self, image, threshold):\n",
        "        with torch.no_grad():\n",
        "            # forward pass of the image through the modle\n",
        "            outputs = self.model(image)\n",
        "\n",
        "        # get all the scores\n",
        "        scores = list(outputs[0]['scores'].detach().cpu().numpy())\n",
        "        # index of those scores which are above a certain threshold\n",
        "        thresholded_preds_inidices = [scores.index(i) for i in scores if i > threshold]\n",
        "        thresholded_preds_count = len(thresholded_preds_inidices)\n",
        "        # get the masks\n",
        "        masks = (outputs[0]['masks']>0.5).squeeze().detach().cpu().numpy()\n",
        "        # discard masks for objects which are below threshold\n",
        "        masks = masks[:thresholded_preds_count]\n",
        "        # get the bounding boxes, in (x1, y1), (x2, y2) format\n",
        "        boxes = [[(int(i[0]), int(i[1])), (int(i[2]), int(i[3]))]  for i in outputs[0]['boxes'].detach().cpu()]\n",
        "        # discard bounding boxes below threshold value\n",
        "        boxes = boxes[:thresholded_preds_count]\n",
        "        # get the classes labels\n",
        "        labels = [coco_names[i] for i in outputs[0]['labels']]\n",
        "        return masks, boxes, labels\n",
        "\n",
        "\n",
        "\n",
        "    def predict(self, frame):\n",
        "        frame = self.transform(frame)\n",
        "        # add a batch dimension\n",
        "        frame = frame.unsqueeze(0).to(self.device )\n",
        "        return self.get_outputs(frame, self.threshold)\n",
        "\n",
        "    def crop_mask(self, imager, masks,boxes,labels, sizeim=None):\n",
        "        phlist = []\n",
        "        boxes2 = []\n",
        "        hh, ww = imager.shape[:2]\n",
        "        for i in range(len(masks)):\n",
        "            if labels[i]=='person':\n",
        "                red_map = np.ones_like(masks[i]).astype(np.uint8)\n",
        "                try:\n",
        "                    # apply a randon color mask to each object\n",
        "                    red_map[masks[i] == 1] = 255\n",
        "                    red_map[red_map < 254] = 0\n",
        "                    red_map[red_map ==254] = 255\n",
        "                    red_map = cv2.bitwise_not(red_map)\n",
        "                    res = cv2.bitwise_and(imager,imager, mask= red_map)\n",
        "                    #res = cv2.bitwise_and(imager,imager, mask= dilate)\n",
        "                    stat = fixed_crop(imager)\n",
        "\n",
        "                except:\n",
        "                    stat = fixed_crop(imager)\n",
        "\n",
        "        return stat "
      ],
      "metadata": {
        "id": "BPU14-D8CdI4"
      },
      "execution_count": null,
      "outputs": []
    },
    {
      "cell_type": "code",
      "source": [],
      "metadata": {
        "id": "ImctsQsLAob6"
      },
      "execution_count": null,
      "outputs": []
    },
    {
      "cell_type": "code",
      "source": [
        "!wget https://i.imgur.com/EqYTTmH.jpeg"
      ],
      "metadata": {
        "id": "mJZMSmR9M3AA",
        "colab": {
          "base_uri": "https://localhost:8080/"
        },
        "outputId": "c52c743b-f91a-4259-c8a0-5eab37bffd6e"
      },
      "execution_count": null,
      "outputs": [
        {
          "output_type": "stream",
          "name": "stdout",
          "text": [
            "--2023-03-05 17:17:11--  https://i.imgur.com/EqYTTmH.jpeg\n",
            "Resolving i.imgur.com (i.imgur.com)... 146.75.80.193\n",
            "Connecting to i.imgur.com (i.imgur.com)|146.75.80.193|:443... connected.\n",
            "HTTP request sent, awaiting response... 200 OK\n",
            "Length: 38434 (38K) [image/jpeg]\n",
            "Saving to: ‘EqYTTmH.jpeg’\n",
            "\n",
            "\rEqYTTmH.jpeg          0%[                    ]       0  --.-KB/s               \rEqYTTmH.jpeg        100%[===================>]  37.53K  --.-KB/s    in 0.004s  \n",
            "\n",
            "2023-03-05 17:17:11 (9.65 MB/s) - ‘EqYTTmH.jpeg’ saved [38434/38434]\n",
            "\n"
          ]
        }
      ]
    },
    {
      "cell_type": "code",
      "source": [
        "def iswhite(img):\n",
        "    hsv = cv2.cvtColor(img, cv2.COLOR_BGR2HSV)\n",
        "    hist_h = cv2.calcHist([hsv], [0], None, [256], [0, 256])  # Hue channel \n",
        "    hist_s = cv2.calcHist([hsv], [1], None, [256], [0, 256])  # Saturation channel \n",
        "    hist_v = cv2.calcHist([hsv], [2], None, [256], [0, 256])  # Value channel  \n",
        "\n",
        "    if np.argmax(hist_h) == 0 and np.argmax(hist_s) == 0 and np.argmax(hist_v) >= 239: \n",
        "        print(\"The background color is white\")  \n",
        "        return True\n",
        "    else:  \n",
        "        print(\"The background color is not white\")\n",
        "        return False"
      ],
      "metadata": {
        "id": "lXuRdmF-J7km"
      },
      "execution_count": null,
      "outputs": []
    },
    {
      "cell_type": "code",
      "source": [
        "frame = cv2.imread('/content/WhatsApp Image 2023-03-04 at 4.00.53 PM_4IhLq0V.jpeg') \n",
        "frame = image_resize(frame,height=224)\n",
        "Mask_RCNN0 = Mask_RCNN(threshold = 0.97) \n",
        "image = Image.fromarray(frame[..., ::-1])  # bgr to rgb \n",
        "masks, boxes, labels = Mask_RCNN0.predict(image) "
      ],
      "metadata": {
        "id": "5_Te98OhC1Y9"
      },
      "execution_count": null,
      "outputs": []
    },
    {
      "cell_type": "code",
      "source": [
        "#scaled = cv2.resize(frame, (474, 474), interpolation=cv2.INTER_AREA)\n",
        "\n",
        "stat = Mask_RCNN0.crop_mask(frame, masks, boxes, labels, sizeim=(224, 224))\n",
        "print(stat)"
      ],
      "metadata": {
        "colab": {
          "base_uri": "https://localhost:8080/"
        },
        "id": "8loj5ZKUSVye",
        "outputId": "7e54326b-0cf7-4481-8b10-dcc1b83cddcd"
      },
      "execution_count": null,
      "outputs": [
        {
          "output_type": "stream",
          "name": "stdout",
          "text": [
            "The background color is white\n",
            "The background color is white\n",
            "True\n"
          ]
        }
      ]
    },
    {
      "cell_type": "code",
      "source": [
        "def crop_mask(imager, masks,boxes,labels, sizeim=None):\n",
        "        phlist = []\n",
        "        boxes2 = []\n",
        "        hh, ww = imager.shape[:2]\n",
        "        for i in range(len(masks)):\n",
        "            if labels[i]=='person':\n",
        "                red_map = np.ones_like(masks[i]).astype(np.uint8)\n",
        "                try:\n",
        "                    cv2_imshow(imager)\n",
        "                    # apply a randon color mask to each object\n",
        "                    red_map[masks[i] == 1] = 255\n",
        "                    red_map[red_map < 254] = 0\n",
        "                    red_map[red_map ==254] = 255\n",
        "                    red_map = cv2.bitwise_not(red_map)\n",
        "                    res = cv2.bitwise_and(imager,imager, mask= red_map)\n",
        "                    white_areas = cv2.inRange(res, (255, 255, 255), (255, 255, 255))\n",
        "                    res2 = cv2.bitwise_and(imager,imager, mask=white_areas)\n",
        "\n",
        "                    \n",
        "                    #res = cv2.bitwise_and(imager,imager, mask= dilate)\n",
        "                    cv2.imwrite(\"go2.jpg\", res2)\n",
        "                    stat = iswhite(res2)\n",
        "                    cv2_imshow(res)\n",
        "\n",
        "                except:\n",
        "                    stat = fixed_crop(imager)\n",
        "        return stat "
      ],
      "metadata": {
        "id": "1Ut2nOQ5DanC"
      },
      "execution_count": null,
      "outputs": []
    },
    {
      "cell_type": "code",
      "source": [
        "#scaled = cv2.resize(frame, (224, 224), interpolation=cv2.INTER_AREA)\n",
        "\n",
        "stat = crop_mask(frame, masks, boxes, labels, sizeim=(224, 224))\n",
        "print(stat)"
      ],
      "metadata": {
        "colab": {
          "base_uri": "https://localhost:8080/",
          "height": 293
        },
        "id": "0YBW8fPkCngt",
        "outputId": "1f70cf76-ae81-4579-db26-1b0ce083ce56"
      },
      "execution_count": null,
      "outputs": [
        {
          "output_type": "display_data",
          "data": {
            "text/plain": [
              "<PIL.Image.Image image mode=RGB size=398x224 at 0x7F0355905AF0>"
            ],
            "image/png": "[encoded data removed]"
          },
          "metadata": {}
        },
        {
          "output_type": "stream",
          "name": "stdout",
          "text": [
            "The background color is white\n",
            "The background color is white\n",
            "True\n"
          ]
        }
      ]
    }
  ]
}