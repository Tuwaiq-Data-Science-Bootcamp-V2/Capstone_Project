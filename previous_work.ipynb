{
 "cells": [
  {
   "cell_type": "markdown",
   "id": "e4765e25",
   "metadata": {},
   "source": [
    "## Imports the libraries"
   ]
  },
  {
   "cell_type": "code",
   "execution_count": 1,
   "id": "7f123b5c",
   "metadata": {},
   "outputs": [],
   "source": [
    "import numpy as np\n",
    "import pandas as pd \n",
    "import random\n",
    "import os\n",
    "import matplotlib.pyplot as plt\n",
    "import seaborn as sns\n",
    "import zipfile\n",
    "import sys\n",
    "import time\n",
    "import tensorflow.keras as keras\n",
    "import tensorflow as tf\n",
    "import re\n",
    "\n",
    "from PIL import Image\n",
    "from keras.layers import Input, Conv2D, Dense, Flatten, MaxPooling2D, Input, GlobalAveragePooling2D\n",
    "# from keras.layers.experimental.preprocessing import Normalization\n",
    "from keras.models import Model, Sequential\n",
    "from keras.preprocessing import image\n",
    "from keras.utils import to_categorical\n",
    "from keras.layers import Lambda\n",
    "from keras.callbacks import EarlyStopping\n",
    "from sklearn.model_selection import train_test_split\n",
    "from sklearn.metrics import classification_report"
   ]
  },
  {
   "cell_type": "markdown",
   "id": "9787702e",
   "metadata": {},
   "source": [
    "## making the shape of the image (224,224,3)"
   ]
  },
  {
   "cell_type": "code",
   "execution_count": 2,
   "id": "fd83cb2c",
   "metadata": {},
   "outputs": [],
   "source": [
    "IMAGE_WIDTH = 224    \n",
    "IMAGE_HEIGHT = 224\n",
    "IMAGE_SIZE=(IMAGE_WIDTH, IMAGE_HEIGHT)\n",
    "IMAGE_CHANNELS = 3"
   ]
  },
  {
   "cell_type": "markdown",
   "id": "aaa48caa",
   "metadata": {},
   "source": [
    "## reading the images from folder"
   ]
  },
  {
   "cell_type": "code",
   "execution_count": 3,
   "id": "17af94cc",
   "metadata": {},
   "outputs": [
    {
     "name": "stdout",
     "output_type": "stream",
     "text": [
      "Files and directories in ' C:\\Users\\lamaa\\Desktop\\Detrash project\\garbage_classification ' :\n",
      "['battery', 'biological', 'brown-glass', 'cardboard', 'clothes', 'green-glass', 'metal', 'paper', 'plastic', 'shoes', 'trash', 'white-glass']\n"
     ]
    }
   ],
   "source": [
    "base_path = r\"C:\\Users\\lamaa\\Desktop\\Detrash project\\garbage_classification\"\n",
    "dir_list = os.listdir(base_path)\n",
    "\n",
    "print(\"Files and directories in '\", base_path, \"' :\")\n",
    "\n",
    "# prints all files\n",
    "\n",
    "print(dir_list)"
   ]
  },
  {
   "cell_type": "code",
   "execution_count": 4,
   "id": "3e701a86",
   "metadata": {},
   "outputs": [],
   "source": [
    "categories = {0: 'paper', 1: 'cardboard', 2: 'plastic', 3: 'metal', 4: 'trash', 5: 'battery',\n",
    "              6: 'shoes', 7: 'clothes', 8: 'green-glass', 9: 'brown-glass', 10: 'white-glass',\n",
    "              11: 'biological'}"
   ]
  },
  {
   "cell_type": "markdown",
   "id": "ce7118ed",
   "metadata": {},
   "source": [
    "## making the dataframe"
   ]
  },
  {
   "cell_type": "code",
   "execution_count": 5,
   "id": "851675f9",
   "metadata": {},
   "outputs": [],
   "source": [
    "def add_class_name_prefix(df, col_name):\n",
    "    df[col_name] = df[col_name].apply(lambda x: x[:re.search(\"\\d\",x).start()] + '/' + x)\n",
    "    return df"
   ]
  },
  {
   "cell_type": "code",
   "execution_count": 6,
   "id": "c703dada",
   "metadata": {},
   "outputs": [],
   "source": [
    "filenames_list = []\n",
    "categories_list = []\n",
    "\n",
    "for category in dir_list:\n",
    "    \n",
    "    filenames = os.listdir(base_path+\"/\"+ category)\n",
    "    \n",
    "    filenames_list += filenames\n",
    "    categories_list += [category] * len(filenames)\n",
    "\n",
    "df = pd.DataFrame({\n",
    "    'filename': filenames_list,\n",
    "    'category': categories_list\n",
    " })\n",
    "\n",
    "df = add_class_name_prefix(df, 'filename')\n",
    "\n",
    "df = df.sample(frac=1).reset_index(drop=True)"
   ]
  },
  {
   "cell_type": "code",
   "execution_count": 7,
   "id": "d0464537",
   "metadata": {},
   "outputs": [
    {
     "data": {
      "text/html": [
       "<div>\n",
       "<style scoped>\n",
       "    .dataframe tbody tr th:only-of-type {\n",
       "        vertical-align: middle;\n",
       "    }\n",
       "\n",
       "    .dataframe tbody tr th {\n",
       "        vertical-align: top;\n",
       "    }\n",
       "\n",
       "    .dataframe thead th {\n",
       "        text-align: right;\n",
       "    }\n",
       "</style>\n",
       "<table border=\"1\" class=\"dataframe\">\n",
       "  <thead>\n",
       "    <tr style=\"text-align: right;\">\n",
       "      <th></th>\n",
       "      <th>filename</th>\n",
       "      <th>category</th>\n",
       "    </tr>\n",
       "  </thead>\n",
       "  <tbody>\n",
       "    <tr>\n",
       "      <th>0</th>\n",
       "      <td>clothes/clothes4362.jpg</td>\n",
       "      <td>clothes</td>\n",
       "    </tr>\n",
       "    <tr>\n",
       "      <th>1</th>\n",
       "      <td>clothes/clothes276.jpg</td>\n",
       "      <td>clothes</td>\n",
       "    </tr>\n",
       "    <tr>\n",
       "      <th>2</th>\n",
       "      <td>brown-glass/brown-glass427.jpg</td>\n",
       "      <td>brown-glass</td>\n",
       "    </tr>\n",
       "    <tr>\n",
       "      <th>3</th>\n",
       "      <td>shoes/shoes142.jpg</td>\n",
       "      <td>shoes</td>\n",
       "    </tr>\n",
       "    <tr>\n",
       "      <th>4</th>\n",
       "      <td>biological/biological437.jpg</td>\n",
       "      <td>biological</td>\n",
       "    </tr>\n",
       "    <tr>\n",
       "      <th>5</th>\n",
       "      <td>battery/battery198.jpg</td>\n",
       "      <td>battery</td>\n",
       "    </tr>\n",
       "    <tr>\n",
       "      <th>6</th>\n",
       "      <td>battery/battery147.jpg</td>\n",
       "      <td>battery</td>\n",
       "    </tr>\n",
       "    <tr>\n",
       "      <th>7</th>\n",
       "      <td>shoes/shoes1874.jpg</td>\n",
       "      <td>shoes</td>\n",
       "    </tr>\n",
       "    <tr>\n",
       "      <th>8</th>\n",
       "      <td>clothes/clothes1423.jpg</td>\n",
       "      <td>clothes</td>\n",
       "    </tr>\n",
       "    <tr>\n",
       "      <th>9</th>\n",
       "      <td>clothes/clothes3328.jpg</td>\n",
       "      <td>clothes</td>\n",
       "    </tr>\n",
       "  </tbody>\n",
       "</table>\n",
       "</div>"
      ],
      "text/plain": [
       "                         filename     category\n",
       "0         clothes/clothes4362.jpg      clothes\n",
       "1          clothes/clothes276.jpg      clothes\n",
       "2  brown-glass/brown-glass427.jpg  brown-glass\n",
       "3              shoes/shoes142.jpg        shoes\n",
       "4    biological/biological437.jpg   biological\n",
       "5          battery/battery198.jpg      battery\n",
       "6          battery/battery147.jpg      battery\n",
       "7             shoes/shoes1874.jpg        shoes\n",
       "8         clothes/clothes1423.jpg      clothes\n",
       "9         clothes/clothes3328.jpg      clothes"
      ]
     },
     "execution_count": 7,
     "metadata": {},
     "output_type": "execute_result"
    }
   ],
   "source": [
    "df.head(10)"
   ]
  },
  {
   "cell_type": "markdown",
   "id": "d7e49a91",
   "metadata": {},
   "source": [
    "## Viusalize the Categories Distribution"
   ]
  },
  {
   "cell_type": "code",
   "execution_count": 8,
   "id": "1ff25abf",
   "metadata": {},
   "outputs": [
    {
     "data": {
      "text/plain": [
       "Text(0.5, 1.02, 'Count of images per class')"
      ]
     },
     "execution_count": 8,
     "metadata": {},
     "output_type": "execute_result"
    },
    {
     "data": {
      "image/png": "[encoded data removed]",
      "text/plain": [
       "<Figure size 640x480 with 1 Axes>"
      ]
     },
     "metadata": {},
     "output_type": "display_data"
    }
   ],
   "source": [
    "df['category'].value_counts().plot.bar(x = 'count', y = 'category' )\n",
    "\n",
    "plt.xlabel(\"Garbage Classes\", labelpad=14)\n",
    "plt.ylabel(\"Images Count\", labelpad=14)\n",
    "plt.title(\"Count of images per class\", y=1.02)"
   ]
  },
  {
   "cell_type": "markdown",
   "id": "b95c4251",
   "metadata": {},
   "source": [
    "# creatin the model"
   ]
  },
  {
   "cell_type": "code",
   "execution_count": 9,
   "id": "ff3efaf2",
   "metadata": {},
   "outputs": [],
   "source": [
    "from keras.models import Sequential\n",
    "from keras.layers import Conv2D, MaxPooling2D, Dropout, Flatten, Dense, Activation, BatchNormalization\n",
    "import keras.applications.mobilenet_v2 as mobilenetv2"
   ]
  },
  {
   "cell_type": "code",
   "execution_count": 10,
   "id": "4ef7127d",
   "metadata": {},
   "outputs": [],
   "source": [
    "mobilenetv2_layer = mobilenetv2.MobileNetV2(include_top = False, input_shape = (IMAGE_WIDTH, IMAGE_HEIGHT,IMAGE_CHANNELS))\n",
    "#                        weights = 'imagenet')"
   ]
  },
  {
   "cell_type": "code",
   "execution_count": 11,
   "id": "5d09aaa9",
   "metadata": {},
   "outputs": [
    {
     "name": "stdout",
     "output_type": "stream",
     "text": [
      "Model: \"sequential\"\n",
      "_________________________________________________________________\n",
      " Layer (type)                Output Shape              Param #   \n",
      "=================================================================\n",
      " lambda (Lambda)             (None, 224, 224, 3)       0         \n",
      "                                                                 \n",
      " mobilenetv2_1.00_224 (Funct  (None, 7, 7, 1280)       2257984   \n",
      " ional)                                                          \n",
      "                                                                 \n",
      " global_average_pooling2d (G  (None, 1280)             0         \n",
      " lobalAveragePooling2D)                                          \n",
      "                                                                 \n",
      " dense (Dense)               (None, 12)                15372     \n",
      "                                                                 \n",
      "=================================================================\n",
      "Total params: 2,273,356\n",
      "Trainable params: 15,372\n",
      "Non-trainable params: 2,257,984\n",
      "_________________________________________________________________\n"
     ]
    }
   ],
   "source": [
    "# We don't want to train the imported weights\n",
    "mobilenetv2_layer.trainable = False\n",
    "\n",
    "\n",
    "model = Sequential()\n",
    "model.add(keras.Input(shape=(IMAGE_WIDTH, IMAGE_HEIGHT, IMAGE_CHANNELS)))\n",
    "\n",
    "#create a custom layer to apply the preprocessing\n",
    "def mobilenetv2_preprocessing(img):\n",
    "    return mobilenetv2.preprocess_input(img)\n",
    "\n",
    "model.add(Lambda(mobilenetv2_preprocessing))\n",
    "\n",
    "model.add(mobilenetv2_layer)\n",
    "model.add(tf.keras.layers.GlobalAveragePooling2D())\n",
    "model.add(Dense(len(categories), activation='softmax')) \n",
    "\n",
    "model.compile(loss='categorical_crossentropy', optimizer='adam', metrics=['categorical_accuracy'])\n",
    "\n",
    "model.summary()"
   ]
  },
  {
   "cell_type": "code",
   "execution_count": 12,
   "id": "b786a256",
   "metadata": {},
   "outputs": [
    {
     "name": "stdout",
     "output_type": "stream",
     "text": [
      "call back defined!\n"
     ]
    }
   ],
   "source": [
    "## We will use the EarlyStopping call back to stop our training if the\n",
    "## validation_accuray is not improving for a certain number of epochs.\n",
    "early_stop = EarlyStopping(patience = 2, verbose = 1, monitor='val_categorical_accuracy' , mode='max', min_delta=0.001, restore_best_weights = True)\n",
    "\n",
    "callbacks = [early_stop]\n",
    "\n",
    "print('call back defined!')"
   ]
  },
  {
   "cell_type": "code",
   "execution_count": 13,
   "id": "c82b184e",
   "metadata": {},
   "outputs": [
    {
     "name": "stdout",
     "output_type": "stream",
     "text": [
      "train size =  1551 validate size =  1551 test size =  1552\n"
     ]
    }
   ],
   "source": [
    "\n",
    "#Change the categories from numbers to names\n",
    "df[\"category\"] = df[\"category\"].replace(categories) \n",
    "\n",
    "# We first split the data into two sets and then split the validate_df to two sets\n",
    "train_df, validate_df = train_test_split(df, test_size=0.2, random_state=42)\n",
    "validate_df, test_df = train_test_split(validate_df, test_size=0.5, random_state=42)\n",
    "\n",
    "train_df = train_df.reset_index(drop=True)\n",
    "validate_df = validate_df.reset_index(drop=True)\n",
    "test_df = test_df.reset_index(drop=True)\n",
    "\n",
    "total_train = train_df.shape[0]\n",
    "total_validate = validate_df.shape[0]\n",
    "\n",
    "print('train size = ', total_validate , 'validate size = ', total_validate, 'test size = ', test_df.shape[0])"
   ]
  },
  {
   "cell_type": "markdown",
   "id": "52600cd9",
   "metadata": {},
   "source": [
    "## playing with images flip and zooming too"
   ]
  },
  {
   "cell_type": "code",
   "execution_count": 14,
   "id": "2831c2f3",
   "metadata": {},
   "outputs": [],
   "source": [
    "batch_size=64\n",
    "\n",
    "train_datagen = image.ImageDataGenerator(\n",
    " \n",
    "    rotation_range=30,\n",
    "    shear_range=0.1,\n",
    "    zoom_range=0.3,\n",
    "    horizontal_flip=True,\n",
    "    vertical_flip = True,\n",
    "    width_shift_range=0.2,\n",
    "    height_shift_range=0.2\n",
    "    \n",
    ")"
   ]
  },
  {
   "cell_type": "markdown",
   "id": "83293544",
   "metadata": {},
   "source": [
    "## training time"
   ]
  },
  {
   "cell_type": "code",
   "execution_count": 15,
   "id": "daf787a0",
   "metadata": {},
   "outputs": [
    {
     "name": "stdout",
     "output_type": "stream",
     "text": [
      "Found 12412 validated image filenames belonging to 12 classes.\n"
     ]
    }
   ],
   "source": [
    "train_generator = train_datagen.flow_from_dataframe(\n",
    "    train_df, \n",
    "    base_path, \n",
    "    x_col='filename',\n",
    "    y_col='category',\n",
    "    target_size=IMAGE_SIZE,\n",
    "    batch_size=batch_size,\n",
    "    #shuffle = True, \n",
    "    class_mode = 'categorical'\n",
    ")"
   ]
  },
  {
   "cell_type": "code",
   "execution_count": 16,
   "id": "ce7d0df4",
   "metadata": {},
   "outputs": [
    {
     "name": "stdout",
     "output_type": "stream",
     "text": [
      "Found 1551 validated image filenames belonging to 12 classes.\n"
     ]
    }
   ],
   "source": [
    "validation_datagen = image.ImageDataGenerator()\n",
    "\n",
    "validation_generator = validation_datagen.flow_from_dataframe(\n",
    "    validate_df, \n",
    "    base_path, \n",
    "    x_col='filename',\n",
    "    y_col='category',\n",
    "    target_size=IMAGE_SIZE,\n",
    "    class_mode='categorical',\n",
    "    #shuffle = True,\n",
    "    batch_size=batch_size\n",
    ")"
   ]
  },
  {
   "cell_type": "code",
   "execution_count": 17,
   "id": "3c3ebb86",
   "metadata": {},
   "outputs": [
    {
     "data": {
      "text/plain": [
       "clothes        4235\n",
       "shoes          1571\n",
       "paper           860\n",
       "biological      803\n",
       "battery         760\n",
       "cardboard       700\n",
       "plastic         690\n",
       "white-glass     620\n",
       "metal           617\n",
       "trash           559\n",
       "green-glass     508\n",
       "brown-glass     489\n",
       "Name: category, dtype: int64"
      ]
     },
     "execution_count": 17,
     "metadata": {},
     "output_type": "execute_result"
    }
   ],
   "source": [
    "train_df['category'].value_counts()"
   ]
  },
  {
   "cell_type": "code",
   "execution_count": 18,
   "id": "dabb3400",
   "metadata": {},
   "outputs": [
    {
     "name": "stderr",
     "output_type": "stream",
     "text": [
      "C:\\Users\\lamaa\\AppData\\Local\\Temp\\ipykernel_20212\\2306379563.py:2: UserWarning: `Model.fit_generator` is deprecated and will be removed in a future version. Please use `Model.fit`, which supports generators.\n",
      "  history = model.fit_generator(\n"
     ]
    },
    {
     "name": "stdout",
     "output_type": "stream",
     "text": [
      "Epoch 1/25\n",
      "193/193 [==============================] - 529s 3s/step - loss: 0.7015 - categorical_accuracy: 0.7930 - val_loss: 0.3120 - val_categorical_accuracy: 0.9147\n",
      "Epoch 2/25\n",
      "193/193 [==============================] - 499s 3s/step - loss: 0.3421 - categorical_accuracy: 0.8948 - val_loss: 0.2572 - val_categorical_accuracy: 0.9258\n",
      "Epoch 3/25\n",
      "193/193 [==============================] - 456s 2s/step - loss: 0.2856 - categorical_accuracy: 0.9088 - val_loss: 0.2417 - val_categorical_accuracy: 0.9290\n",
      "Epoch 4/25\n",
      "193/193 [==============================] - 472s 2s/step - loss: 0.2731 - categorical_accuracy: 0.9149 - val_loss: 0.2242 - val_categorical_accuracy: 0.9316\n",
      "Epoch 5/25\n",
      "193/193 [==============================] - 479s 2s/step - loss: 0.2506 - categorical_accuracy: 0.9181 - val_loss: 0.2143 - val_categorical_accuracy: 0.9368\n",
      "Epoch 6/25\n",
      "193/193 [==============================] - 486s 3s/step - loss: 0.2363 - categorical_accuracy: 0.9249 - val_loss: 0.2208 - val_categorical_accuracy: 0.9290\n",
      "Epoch 7/25\n",
      "193/193 [==============================] - ETA: 0s - loss: 0.2230 - categorical_accuracy: 0.9294Restoring model weights from the end of the best epoch: 5.\n",
      "193/193 [==============================] - 461s 2s/step - loss: 0.2230 - categorical_accuracy: 0.9294 - val_loss: 0.2121 - val_categorical_accuracy: 0.9323\n",
      "Epoch 7: early stopping\n"
     ]
    }
   ],
   "source": [
    "EPOCHS = 25\n",
    "history = model.fit_generator(\n",
    "    train_generator, \n",
    "    epochs=EPOCHS,\n",
    "    validation_data=validation_generator,\n",
    "    validation_steps=total_validate//batch_size,\n",
    "    steps_per_epoch=total_train//batch_size,\n",
    "    callbacks=callbacks\n",
    ")"
   ]
  },
  {
   "cell_type": "markdown",
   "id": "0c17c06b",
   "metadata": {},
   "source": [
    "### visual"
   ]
  },
  {
   "cell_type": "code",
   "execution_count": 19,
   "id": "dfa3d8a6",
   "metadata": {},
   "outputs": [
    {
     "data": {
      "image/png": "[encoded data removed]",
      "text/plain": [
       "<Figure size 640x480 with 2 Axes>"
      ]
     },
     "metadata": {},
     "output_type": "display_data"
    }
   ],
   "source": [
    "fig, (ax1, ax2) = plt.subplots(2, 1)\n",
    "ax1.plot(history.history['loss'], color='b', label=\"Training loss\")\n",
    "ax1.plot(history.history['val_loss'], color='r', label=\"validation loss\")\n",
    "ax1.set_yticks(np.arange(0, 0.7, 0.1))\n",
    "ax1.legend()\n",
    "\n",
    "ax2.plot(history.history['categorical_accuracy'], color='b', label=\"Training accuracy\")\n",
    "ax2.plot(history.history['val_categorical_accuracy'], color='r',label=\"Validation accuracy\")\n",
    "ax2.legend()\n",
    "\n",
    "legend = plt.legend(loc='best')\n",
    "plt.tight_layout()\n",
    "plt.show()"
   ]
  },
  {
   "cell_type": "markdown",
   "id": "b6077634",
   "metadata": {},
   "source": [
    "## test"
   ]
  },
  {
   "cell_type": "code",
   "execution_count": 20,
   "id": "be206b87",
   "metadata": {},
   "outputs": [
    {
     "name": "stdout",
     "output_type": "stream",
     "text": [
      "Found 1552 validated image filenames belonging to 12 classes.\n"
     ]
    }
   ],
   "source": [
    "test_datagen = image.ImageDataGenerator()\n",
    "\n",
    "test_generator = test_datagen.flow_from_dataframe(\n",
    "    dataframe= test_df,\n",
    "    directory=base_path,\n",
    "    x_col='filename',\n",
    "    y_col='category',\n",
    "    target_size=IMAGE_SIZE,\n",
    "    color_mode=\"rgb\",\n",
    "    class_mode=\"categorical\",\n",
    "    batch_size=1,\n",
    "    shuffle=False \n",
    ")"
   ]
  },
  {
   "cell_type": "code",
   "execution_count": 21,
   "id": "980eed70",
   "metadata": {},
   "outputs": [
    {
     "name": "stderr",
     "output_type": "stream",
     "text": [
      "C:\\Users\\lamaa\\AppData\\Local\\Temp\\ipykernel_20212\\3470922143.py:4: UserWarning: `Model.evaluate_generator` is deprecated and will be removed in a future version. Please use `Model.evaluate`, which supports generators.\n",
      "  _, accuracy = model.evaluate_generator(test_generator, nb_samples)\n"
     ]
    },
    {
     "name": "stdout",
     "output_type": "stream",
     "text": [
      "Accuracy on test set =  93.11 % \n"
     ]
    }
   ],
   "source": [
    "filenames = test_generator.filenames\n",
    "nb_samples = len(filenames)\n",
    "\n",
    "_, accuracy = model.evaluate_generator(test_generator, nb_samples)\n",
    "\n",
    "print('Accuracy on test set = ',  round((accuracy * 100),2 ), '% ') "
   ]
  },
  {
   "cell_type": "code",
   "execution_count": 22,
   "id": "78611f35",
   "metadata": {},
   "outputs": [
    {
     "name": "stdout",
     "output_type": "stream",
     "text": [
      "{0: 'battery', 1: 'biological', 2: 'brown-glass', 3: 'cardboard', 4: 'clothes', 5: 'green-glass', 6: 'metal', 7: 'paper', 8: 'plastic', 9: 'shoes', 10: 'trash', 11: 'white-glass'}\n"
     ]
    }
   ],
   "source": [
    "# We defined at the beginning of this notebook a dictionary that maps the categories number to names, but the train generator\n",
    "# generated it's own dictionary and it has assigned different numbers to our categories and the predictions made by the model \n",
    "# will be made using the genrator's dictionary.\n",
    "\n",
    "gen_label_map = test_generator.class_indices\n",
    "gen_label_map = dict((v,k) for k,v in gen_label_map.items())\n",
    "print(gen_label_map)"
   ]
  },
  {
   "cell_type": "code",
   "execution_count": 23,
   "id": "e60c7256",
   "metadata": {},
   "outputs": [
    {
     "name": "stderr",
     "output_type": "stream",
     "text": [
      "C:\\Users\\lamaa\\AppData\\Local\\Temp\\ipykernel_20212\\727984934.py:2: UserWarning: `Model.predict_generator` is deprecated and will be removed in a future version. Please use `Model.predict`, which supports generators.\n",
      "  preds = model.predict_generator(test_generator, nb_samples)\n"
     ]
    },
    {
     "name": "stdout",
     "output_type": "stream",
     "text": [
      "              precision    recall  f1-score   support\n",
      "\n",
      "     battery       0.96      0.92      0.94       103\n",
      "  biological       0.94      1.00      0.97        90\n",
      " brown-glass       0.96      0.72      0.82        60\n",
      "   cardboard       0.97      0.90      0.93        93\n",
      "     clothes       0.98      0.99      0.98       526\n",
      " green-glass       0.89      0.88      0.88        65\n",
      "       metal       0.82      0.88      0.85        80\n",
      "       paper       0.92      0.89      0.91        91\n",
      "     plastic       0.81      0.74      0.77        78\n",
      "       shoes       0.91      0.98      0.95       219\n",
      "       trash       0.95      0.90      0.93        69\n",
      " white-glass       0.83      0.88      0.86        78\n",
      "\n",
      "    accuracy                           0.93      1552\n",
      "   macro avg       0.91      0.89      0.90      1552\n",
      "weighted avg       0.93      0.93      0.93      1552\n",
      "\n"
     ]
    }
   ],
   "source": [
    "# get the model's predictions for the test set\n",
    "preds = model.predict_generator(test_generator, nb_samples)\n",
    "\n",
    "# Get the category with the highest predicted probability, the prediction is only the category's number and not name\n",
    "preds = preds.argmax(1)\n",
    "\n",
    "# Convert the predicted category's number to name \n",
    "preds = [gen_label_map[item] for item in preds]\n",
    "\n",
    "# Convert the pandas dataframe to a numpy matrix\n",
    "labels = test_df['category'].to_numpy()\n",
    "\n",
    "print(classification_report(labels, preds))"
   ]
  },
  {
   "cell_type": "code",
   "execution_count": 26,
   "id": "d594d60c",
   "metadata": {},
   "outputs": [],
   "source": [
    "# model.save('my_model2.hdf5')"
   ]
  },
  {
   "cell_type": "markdown",
   "id": "34d14e5c",
   "metadata": {},
   "source": [
    "## code python for camera"
   ]
  },
  {
   "cell_type": "code",
   "execution_count": null,
   "id": "8523046d",
   "metadata": {},
   "outputs": [],
   "source": [
    "# from keras.models import load_model\n",
    "# import tensorflow as tf\n",
    "# import keras.utils as image\n",
    "# import keras.applications.mobilenet_v2 as mobilenetv2\n",
    "# from keras.applications.imagenet_utils import preprocess_input\n",
    "# import numpy as np\n",
    "# import cv2\n",
    "# import time\n",
    "\n",
    "# label =  {0: 'paper', 1: 'cardboard', 2: 'plastic', 3: 'metal', 4: 'trash', 5: 'battery',\n",
    "#               6: 'shoes', 7: 'clothes', 8: 'green-glass', 9: 'brown-glass', 10: 'white-glass',\n",
    "#               11: 'biological'}\n",
    "# MODEL_PATH = 'my_model2.hdf5'\n",
    "# model = load_model(MODEL_PATH)\n",
    "\n",
    "# def model_predict(img_path):\n",
    "#     img = image.load_img(img_path, target_size =(224,224))\n",
    "#     img = image.img_to_array(img)\n",
    "#     img = np.expand_dims(img,axis=0)\n",
    "#     img = preprocess_input(img)\n",
    "#     preds = model.predict(img)\n",
    "#     y_classes = preds.argmax()\n",
    "#     result = str(list(label.keys())[list(label.values()).index(y_classes)])\n",
    "\n",
    "#     return result\n",
    "\n",
    "# capture_duration = 120\n",
    "# cam = cv2.VideoCapture(0)\n",
    "# start_time = time.time()\n",
    "# font = cv2.FONT_HERSHEY_SIMPLIX\n",
    "# org = (50,50)\n",
    "# fontScale = 1\n",
    "# color = (225,0,0)\n",
    "# thickness = 2\n",
    "\n",
    "# while (int(time.time()-start_time) < capture_duration):\n",
    "#     success,img = cam.read()\n",
    "#     gray = cv2.cvtColor(img,cv2.COLOR_BGR2GRAY)\n",
    "#     if success:\n",
    "#         cv2.imwrite('image.jpg',img)\n",
    "#         result = model_predict('image.jpg')\n",
    "#     image1 = cv2.PutText(img,result,org,font,fontScale,color,thickness,cv2.LINE_AA)\n",
    "#     cv2.imshow('Garbage',image1)\n",
    "#     if(cv2.waitKey(1)==ord('q')):\n",
    "#         break\n",
    "# cam.release()\n",
    "# cv2.destroyALLWindows()"
   ]
  }
 ],
 "metadata": {
  "kernelspec": {
   "display_name": "Python 3 (ipykernel)",
   "language": "python",
   "name": "python3"
  },
  "language_info": {
   "codemirror_mode": {
    "name": "ipython",
    "version": 3
   },
   "file_extension": ".py",
   "mimetype": "text/x-python",
   "name": "python",
   "nbconvert_exporter": "python",
   "pygments_lexer": "ipython3",
   "version": "3.9.13"
  }
 },
 "nbformat": 4,
 "nbformat_minor": 5
}
