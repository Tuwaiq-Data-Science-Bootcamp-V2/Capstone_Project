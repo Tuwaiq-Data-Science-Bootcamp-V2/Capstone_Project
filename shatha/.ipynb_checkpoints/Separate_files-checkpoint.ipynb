{
 "cells": [
  {
   "cell_type": "code",
   "execution_count": 420,
   "id": "edef3134",
   "metadata": {},
   "outputs": [],
   "source": [
    "import pandas as pd"
   ]
  },
  {
   "cell_type": "code",
   "execution_count": 421,
   "id": "97c43425",
   "metadata": {},
   "outputs": [],
   "source": [
    "import os\n",
    "from os import listdir\n",
    " \n",
    "def file_content(filename):\n",
    "    folder_dir = \"/Users/shatha_95/Desktop/{}\".format(filename) # change path\n",
    "    list1=[]\n",
    "    for images in os.listdir(folder_dir):\n",
    "        if images.endswith(\".jpg\") or images.endswith(\".JPG\"):\n",
    "            list1.append(images)\n",
    "    return list1"
   ]
  },
  {
   "cell_type": "code",
   "execution_count": 400,
   "id": "46d807d8",
   "metadata": {},
   "outputs": [
    {
     "name": "stdout",
     "output_type": "stream",
     "text": [
      "163444   1002\n"
     ]
    }
   ],
   "source": [
    "list1_images_name=file_content('CACD2000')\n",
    "list2_images_name=file_content('FGNET/images') \n",
    "print(len(list1_images_name),' ',len(list2_images_name))"
   ]
  },
  {
   "cell_type": "code",
   "execution_count": 403,
   "id": "0378fe9c",
   "metadata": {},
   "outputs": [],
   "source": [
    "matching = [s for s in list1_images_name if s.split('_')[0].isnumeric()]"
   ]
  },
  {
   "cell_type": "code",
   "execution_count": 404,
   "id": "2f7722c6",
   "metadata": {},
   "outputs": [
    {
     "data": {
      "text/plain": [
       "163444"
      ]
     },
     "execution_count": 404,
     "metadata": {},
     "output_type": "execute_result"
    }
   ],
   "source": [
    "len(matching) # هنا يتضح لنا ان بدايه اسامي الصور جميعها تبتدئ برقم"
   ]
  },
  {
   "cell_type": "code",
   "execution_count": 405,
   "id": "6df94f49",
   "metadata": {},
   "outputs": [],
   "source": [
    "matching = [s for s in list1_images_name if s.split('_')[-1].split('.')[0].isnumeric()]"
   ]
  },
  {
   "cell_type": "code",
   "execution_count": 406,
   "id": "4cf583c8",
   "metadata": {},
   "outputs": [
    {
     "data": {
      "text/plain": [
       "163444"
      ]
     },
     "execution_count": 406,
     "metadata": {},
     "output_type": "execute_result"
    }
   ],
   "source": [
    "len(matching) # هنا يتضح لنا ان نهايه اسامي الصور جميعها تنتهي برقم"
   ]
  },
  {
   "cell_type": "code",
   "execution_count": 407,
   "id": "9b39bdd8",
   "metadata": {},
   "outputs": [],
   "source": [
    "list_of_names2=[]\n",
    "\n",
    "for i in list1_images_name:\n",
    "    namelist=i.replace('_',' ').split()\n",
    "    if len(namelist)==2:\n",
    "        name=namelist[0]\n",
    "    elif len(namelist)==3:\n",
    "        name=namelist[1]\n",
    "    elif len(namelist)> 3:\n",
    "        name=namelist[1]+'_'+namelist[2]\n",
    "    elif len(namelist)==1:\n",
    "        name=namelist[0]\n",
    "    else:\n",
    "        print('empty')\n",
    "    if name not in list_of_names2:\n",
    "        list_of_names2.append(name)"
   ]
  },
  {
   "cell_type": "code",
   "execution_count": 408,
   "id": "e449245c",
   "metadata": {
    "scrolled": false
   },
   "outputs": [
    {
     "data": {
      "text/plain": [
       "1997"
      ]
     },
     "execution_count": 408,
     "metadata": {},
     "output_type": "execute_result"
    }
   ],
   "source": [
    "len(list_of_names2)"
   ]
  },
  {
   "cell_type": "code",
   "execution_count": 409,
   "id": "a814ff69",
   "metadata": {},
   "outputs": [],
   "source": [
    "id_images = [f'{s:03}' for s in range(1,83)]"
   ]
  },
  {
   "cell_type": "code",
   "execution_count": 418,
   "id": "b49f646c",
   "metadata": {
    "scrolled": false
   },
   "outputs": [],
   "source": [
    "import os\n",
    "import shutil\n",
    "\n",
    "def add_images(first_filename,second_filename,list_names,list_img_org_name):\n",
    "    folder_dir = \"/Users/shatha_95/Desktop/{}\".format(first_filename) # change path\n",
    "    parent_dir = \"/Users/shatha_95/Desktop/{}\".format(second_filename) # change path\n",
    "    for i in list_names:\n",
    "        directory = i\n",
    "        path = os.path.join(parent_dir, directory)\n",
    "        os.mkdir(path)\n",
    "        parent_dir2=\"/Users/shatha_95/Desktop/{}/\".format(second_filename)+directory # change path\n",
    "        matching = [s for s in list_img_org_name if i in s]\n",
    "        for j in matching:\n",
    "            shutil.move(folder_dir+'/'+j, parent_dir2)"
   ]
  },
  {
   "cell_type": "code",
   "execution_count": null,
   "id": "90593cd2",
   "metadata": {},
   "outputs": [],
   "source": [
    "add_images('CACD2000','project_image1',list_of_names2,list1_images_name)\n",
    "add_images('FGNET/images','project_image2',id_images,list2_images_name)"
   ]
  }
 ],
 "metadata": {
  "kernelspec": {
   "display_name": "Python 3 (ipykernel)",
   "language": "python",
   "name": "python3"
  },
  "language_info": {
   "codemirror_mode": {
    "name": "ipython",
    "version": 3
   },
   "file_extension": ".py",
   "mimetype": "text/x-python",
   "name": "python",
   "nbconvert_exporter": "python",
   "pygments_lexer": "ipython3",
   "version": "3.9.13"
  }
 },
 "nbformat": 4,
 "nbformat_minor": 5
}
