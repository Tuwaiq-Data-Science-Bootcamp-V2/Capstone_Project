{
 "cells": [
  {
   "cell_type": "code",
   "execution_count": 1,
   "id": "31d24840",
   "metadata": {},
   "outputs": [
    {
     "name": "stdout",
     "output_type": "stream",
     "text": [
      "Collecting instaloader\n",
      "  Downloading instaloader-4.9.6.tar.gz (60 kB)\n",
      "\u001b[2K     \u001b[90m━━━━━━━━━━━━━━━━━━━━━━━━━━━━━━━━━━━━━━━\u001b[0m \u001b[32m60.5/60.5 kB\u001b[0m \u001b[31m538.0 kB/s\u001b[0m eta \u001b[36m0:00:00\u001b[0m \u001b[36m0:00:01\u001b[0m\n",
      "\u001b[?25h  Preparing metadata (setup.py) ... \u001b[?25ldone\n",
      "\u001b[?25hRequirement already satisfied: requests>=2.4 in /opt/anaconda3/lib/python3.9/site-packages (from instaloader) (2.28.1)\n",
      "Requirement already satisfied: idna<4,>=2.5 in /opt/anaconda3/lib/python3.9/site-packages (from requests>=2.4->instaloader) (3.3)\n",
      "Requirement already satisfied: certifi>=2017.4.17 in /opt/anaconda3/lib/python3.9/site-packages (from requests>=2.4->instaloader) (2022.12.7)\n",
      "Requirement already satisfied: charset-normalizer<3,>=2 in /opt/anaconda3/lib/python3.9/site-packages (from requests>=2.4->instaloader) (2.0.4)\n",
      "Requirement already satisfied: urllib3<1.27,>=1.21.1 in /opt/anaconda3/lib/python3.9/site-packages (from requests>=2.4->instaloader) (1.26.11)\n",
      "Building wheels for collected packages: instaloader\n",
      "  Building wheel for instaloader (setup.py) ... \u001b[?25ldone\n",
      "\u001b[?25h  Created wheel for instaloader: filename=instaloader-4.9.6-py3-none-any.whl size=62309 sha256=8107ed1ce34dae977755f918a9e498fdf265b65043c688c2b291d88ec49d003d\n",
      "  Stored in directory: /Users/shatha_95/Library/Caches/pip/wheels/17/c8/6f/fd185ae255bb878d9f2bdb83f27a4a2b383583857167557aee\n",
      "Successfully built instaloader\n",
      "Installing collected packages: instaloader\n",
      "Successfully installed instaloader-4.9.6\n",
      "Note: you may need to restart the kernel to use updated packages.\n"
     ]
    }
   ],
   "source": [
    "pip install instaloader"
   ]
  },
  {
   "cell_type": "code",
   "execution_count": 1,
   "id": "48976743",
   "metadata": {},
   "outputs": [
    {
     "ename": "SyntaxError",
     "evalue": "invalid syntax (3221584338.py, line 1)",
     "output_type": "error",
     "traceback": [
      "\u001b[0;36m  File \u001b[0;32m\"/var/folders/nh/w2dzt3d912bdv0869tm449_r0000gn/T/ipykernel_30998/3221584338.py\"\u001b[0;36m, line \u001b[0;32m1\u001b[0m\n\u001b[0;31m    import Separate files\u001b[0m\n\u001b[0m                    ^\u001b[0m\n\u001b[0;31mSyntaxError\u001b[0m\u001b[0;31m:\u001b[0m invalid syntax\n"
     ]
    }
   ],
   "source": [
    "import Separate files"
   ]
  },
  {
   "cell_type": "code",
   "execution_count": 1,
   "id": "8b9f16d7",
   "metadata": {},
   "outputs": [],
   "source": [
    "from itertools import islice\n",
    "from math import ceil\n",
    "from instaloader import Instaloader, Profile"
   ]
  },
  {
   "cell_type": "code",
   "execution_count": null,
   "id": "3a8bb87f",
   "metadata": {},
   "outputs": [],
   "source": [
    "acounts_list=['dalalid',]\n",
    "\n",
    "for i in acounts_list:\n",
    "    insta_stcaping(i)"
   ]
  },
  {
   "cell_type": "code",
   "execution_count": 8,
   "id": "17e529cd",
   "metadata": {},
   "outputs": [
    {
     "name": "stdout",
     "output_type": "stream",
     "text": [
      "dalalid/2023-02-13_18-05-01_UTC.jpg [مفيش حبايب🥹🤣  #فالنتاين #عيدا…] dalalid/2023-02-13_18-05-01_UTC.mp4 json \n",
      "dalalid/2023-02-11_19-52-12_UTC.jpg [اوتفيت اوف ذي داااااي ❤️  #oo…] dalalid/2023-02-11_19-52-12_UTC.mp4 json \n",
      "dalalid/2023-02-10_19-23-37_UTC.jpg [ايفنت شوميه في قطر ✨🇶🇦  لبست …] dalalid/2023-02-10_19-23-37_UTC.mp4 json \n",
      "dalalid/2023-02-04_18-44-57_UTC.jpg [بغيت اسوي فيديو حق اليوم .. ب…] dalalid/2023-02-04_18-44-57_UTC.mp4 json \n",
      "dalalid/2023-02-02_19-11-19_UTC.jpg [بمناسبة العيد الوطني الكويتي …] dalalid/2023-02-02_19-11-19_UTC.mp4 json \n",
      "dalalid/2023-01-17_18-14-22_UTC_1.jpg dalalid/2023-01-17_18-14-22_UTC_2.jpg dalalid/2023-01-17_18-14-22_UTC_3.jpg dalalid/2023-01-17_18-14-22_UTC_4.jpg dalalid/2023-01-17_18-14-22_UTC_5.jpg dalalid/2023-01-17_18-14-22_UTC_6.jpg dalalid/2023-01-17_18-14-22_UTC_7.jpg dalalid/2023-01-17_18-14-22_UTC_8.jpg dalalid/2023-01-17_18-14-22_UTC_9.jpg dalalid/2023-01-17_18-14-22_UTC_10.jpg [باجي الفوتوشوت 😎❤️ حبيتوا طري…] json \n",
      "dalalid/2023-01-16_18-10-59_UTC_1.jpg dalalid/2023-01-16_18-10-59_UTC_2.jpg dalalid/2023-01-16_18-10-59_UTC_3.jpg dalalid/2023-01-16_18-10-59_UTC_4.jpg dalalid/2023-01-16_18-10-59_UTC_5.jpg dalalid/2023-01-16_18-10-59_UTC_6.jpg dalalid/2023-01-16_18-10-59_UTC_7.jpg [‎من كثر ما الفوتوشوت عاجبني ب…] json \n",
      "dalalid/2023-01-12_18-45-07_UTC_1.jpg dalalid/2023-01-12_18-45-07_UTC_2.jpg dalalid/2023-01-12_18-45-07_UTC_3.jpg [عطرين جدد نازلين عند الجزيرة …] json \n",
      "dalalid/2023-01-06_12-23-55_UTC_1.jpg dalalid/2023-01-06_12-23-55_UTC_2.jpg dalalid/2023-01-06_12-23-55_UTC_3.jpg dalalid/2023-01-06_12-23-55_UTC_4.jpg dalalid/2023-01-06_12-23-55_UTC_5.jpg dalalid/2023-01-06_12-23-55_UTC_6.jpg dalalid/2023-01-06_12-23-55_UTC_7.jpg dalalid/2023-01-06_12-23-55_UTC_8.jpg dalalid/2023-01-06_12-23-55_UTC_9.jpg dalalid/2023-01-06_12-23-55_UTC_10.jpg [الكهف الجليدي وشاطئ الماس ✨ ك…] json \n",
      "dalalid/2023-01-05_18-11-56_UTC_1.jpg dalalid/2023-01-05_18-11-56_UTC_2.jpg dalalid/2023-01-05_18-11-56_UTC_3.jpg dalalid/2023-01-05_18-11-56_UTC_4.jpg dalalid/2023-01-05_18-11-56_UTC_5.jpg dalalid/2023-01-05_18-11-56_UTC_6.jpg dalalid/2023-01-05_18-11-56_UTC_7.jpg dalalid/2023-01-05_18-11-56_UTC_8.jpg dalalid/2023-01-05_18-11-56_UTC_9.jpg dalalid/2023-01-05_18-11-56_UTC_10.jpg [الشاطئ الاسود 🖤  كان حلم .. م…] json \n"
     ]
    }
   ],
   "source": [
    "def insta_stcaping(account):\n",
    "    PROFILE = account        # profile to download from\n",
    "    X_percentage = 15    # percentage of posts that should be downloaded\n",
    "    L = Instaloader()\n",
    "    profile = Profile.from_username(L.context, PROFILE)\n",
    "    for post in islice(profile.get_posts(),10):\n",
    "        L.download_post(post, PROFILE)"
   ]
  },
  {
   "cell_type": "code",
   "execution_count": null,
   "id": "40a72585",
   "metadata": {},
   "outputs": [],
   "source": [
    "def clean_files():\n",
    "    "
   ]
  }
 ],
 "metadata": {
  "kernelspec": {
   "display_name": "Python 3 (ipykernel)",
   "language": "python",
   "name": "python3"
  },
  "language_info": {
   "codemirror_mode": {
    "name": "ipython",
    "version": 3
   },
   "file_extension": ".py",
   "mimetype": "text/x-python",
   "name": "python",
   "nbconvert_exporter": "python",
   "pygments_lexer": "ipython3",
   "version": "3.9.13"
  }
 },
 "nbformat": 4,
 "nbformat_minor": 5
}
